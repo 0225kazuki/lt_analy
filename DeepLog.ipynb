{
 "cells": [
  {
   "cell_type": "code",
   "execution_count": 49,
   "metadata": {},
   "outputs": [],
   "source": [
    "from keras.layers import Dense, LSTM, Input\n",
    "from keras.models import Model\n",
    "from keras.utils import to_categorical\n",
    "from keras.callbacks import ReduceLROnPlateau\n",
    "import pandas as pd\n",
    "import numpy as np"
   ]
  },
  {
   "cell_type": "code",
   "execution_count": 2,
   "metadata": {},
   "outputs": [
    {
     "name": "stdout",
     "output_type": "stream",
     "text": [
      "col_header.txt  hdfs_test_abnormal  hdfs_train  mlabel.txt  nameIndex.txt\r\n"
     ]
    }
   ],
   "source": [
    "ls deeplog-hdfs"
   ]
  },
  {
   "cell_type": "code",
   "execution_count": 4,
   "metadata": {},
   "outputs": [],
   "source": [
    "with open(\"deeplog-hdfs/hdfs_train\", 'r') as f:\n",
    "    data = f.readlines()"
   ]
  },
  {
   "cell_type": "code",
   "execution_count": 9,
   "metadata": {},
   "outputs": [],
   "source": [
    "train_data = []\n",
    "for i in data:\n",
    "    ts = i.strip().split()\n",
    "    if len(ts) == 0 :\n",
    "        pass\n",
    "    else:\n",
    "        train_data.append(np.array([int(t) for t in ts]))"
   ]
  },
  {
   "cell_type": "code",
   "execution_count": 97,
   "metadata": {},
   "outputs": [
    {
     "name": "stdout",
     "output_type": "stream",
     "text": [
      "Anomalies: 16838\n"
     ]
    }
   ],
   "source": [
    "with open(\"deeplog-hdfs/hdfs_test_abnormal\", 'r') as f:\n",
    "    data = f.readlines()\n",
    "    \n",
    "test_anomaly = []\n",
    "for i in data:\n",
    "    ts = i.strip().split()\n",
    "    if len(ts) == 0 :\n",
    "        pass\n",
    "    else:\n",
    "        test_anomaly.append(np.array([int(t) for t in ts]))\n",
    "\n",
    "print(\"Anomalies:\", len(test_anomaly))\n",
    "        \n",
    "with open(\"deeplog-hdfs/hdfs_test_normal\", 'r') as f:\n",
    "    data = f.readlines()\n",
    "    \n",
    "test_normal = []\n",
    "for i in data:\n",
    "    ts = i.strip().split()\n",
    "    if len(ts) == 0 :\n",
    "        pass\n",
    "    else:\n",
    "        test_normal.append(np.array([int(t) for t in ts]))"
   ]
  },
  {
   "cell_type": "code",
   "execution_count": 98,
   "metadata": {},
   "outputs": [],
   "source": [
    "'''\n",
    "hyper parameters\n",
    "\n",
    "h: time window\n",
    "g: cutoff in the prediction probabilities\n",
    "l: num of lstm layers\n",
    "a: num of lstm units in a layer\n",
    "k: num of log keys (i.e, templates)\n",
    "'''\n",
    "\n",
    "h = 10\n",
    "g = 9\n",
    "l = 2\n",
    "a = 64\n",
    "k = 29"
   ]
  },
  {
   "cell_type": "code",
   "execution_count": 43,
   "metadata": {},
   "outputs": [],
   "source": [
    "x_train = []\n",
    "y_train = []\n",
    "for t in train_data:\n",
    "    for st in range(len(t) - h):\n",
    "        x_train.append(np.array([to_categorical(x-1, num_classes=k) for x in t[st:st+h]]))\n",
    "        y_train.append(to_categorical(t[st+h]-1, num_classes=k))\n",
    "        \n",
    "x_train = np.array(x_train)\n",
    "y_train = np.array(y_train)"
   ]
  },
  {
   "cell_type": "code",
   "execution_count": 102,
   "metadata": {},
   "outputs": [
    {
     "name": "stderr",
     "output_type": "stream",
     "text": [
      "100%|██████████| 16838/16838 [00:15<00:00, 1084.96it/s]\n",
      "  4%|▎         | 20486/553366 [00:18<08:10, 1085.81it/s]"
     ]
    },
    {
     "ename": "KeyboardInterrupt",
     "evalue": "",
     "output_type": "error",
     "traceback": [
      "\u001b[0;31m---------------------------------------------------------------------------\u001b[0m",
      "\u001b[0;31mKeyboardInterrupt\u001b[0m                         Traceback (most recent call last)",
      "\u001b[0;32m<ipython-input-102-aecea7e7051f>\u001b[0m in \u001b[0;36m<module>\u001b[0;34m()\u001b[0m\n\u001b[1;32m     21\u001b[0m     \u001b[0mtmp_y\u001b[0m \u001b[0;34m=\u001b[0m \u001b[0;34m[\u001b[0m\u001b[0;34m]\u001b[0m\u001b[0;34m\u001b[0m\u001b[0m\n\u001b[1;32m     22\u001b[0m     \u001b[0;32mfor\u001b[0m \u001b[0mst\u001b[0m \u001b[0;32min\u001b[0m \u001b[0mrange\u001b[0m\u001b[0;34m(\u001b[0m\u001b[0mlen\u001b[0m\u001b[0;34m(\u001b[0m\u001b[0mt\u001b[0m\u001b[0;34m)\u001b[0m \u001b[0;34m-\u001b[0m \u001b[0mh\u001b[0m\u001b[0;34m)\u001b[0m\u001b[0;34m:\u001b[0m\u001b[0;34m\u001b[0m\u001b[0m\n\u001b[0;32m---> 23\u001b[0;31m         \u001b[0mtmp_x\u001b[0m\u001b[0;34m.\u001b[0m\u001b[0mappend\u001b[0m\u001b[0;34m(\u001b[0m\u001b[0mnp\u001b[0m\u001b[0;34m.\u001b[0m\u001b[0marray\u001b[0m\u001b[0;34m(\u001b[0m\u001b[0;34m[\u001b[0m\u001b[0mto_categorical\u001b[0m\u001b[0;34m(\u001b[0m\u001b[0mx\u001b[0m\u001b[0;34m-\u001b[0m\u001b[0;36m1\u001b[0m\u001b[0;34m,\u001b[0m \u001b[0mnum_classes\u001b[0m\u001b[0;34m=\u001b[0m\u001b[0mk\u001b[0m\u001b[0;34m)\u001b[0m \u001b[0;32mfor\u001b[0m \u001b[0mx\u001b[0m \u001b[0;32min\u001b[0m \u001b[0mt\u001b[0m\u001b[0;34m[\u001b[0m\u001b[0mst\u001b[0m\u001b[0;34m:\u001b[0m\u001b[0mst\u001b[0m\u001b[0;34m+\u001b[0m\u001b[0mh\u001b[0m\u001b[0;34m]\u001b[0m\u001b[0;34m]\u001b[0m\u001b[0;34m)\u001b[0m\u001b[0;34m)\u001b[0m\u001b[0;34m\u001b[0m\u001b[0m\n\u001b[0m\u001b[1;32m     24\u001b[0m         \u001b[0mtmp_y\u001b[0m\u001b[0;34m.\u001b[0m\u001b[0mappend\u001b[0m\u001b[0;34m(\u001b[0m\u001b[0mto_categorical\u001b[0m\u001b[0;34m(\u001b[0m\u001b[0mt\u001b[0m\u001b[0;34m[\u001b[0m\u001b[0mst\u001b[0m\u001b[0;34m+\u001b[0m\u001b[0mh\u001b[0m\u001b[0;34m]\u001b[0m\u001b[0;34m-\u001b[0m\u001b[0;36m1\u001b[0m\u001b[0;34m,\u001b[0m \u001b[0mnum_classes\u001b[0m\u001b[0;34m=\u001b[0m\u001b[0mk\u001b[0m\u001b[0;34m)\u001b[0m\u001b[0;34m)\u001b[0m\u001b[0;34m\u001b[0m\u001b[0m\n\u001b[1;32m     25\u001b[0m     \u001b[0mx_test2\u001b[0m\u001b[0;34m.\u001b[0m\u001b[0mappend\u001b[0m\u001b[0;34m(\u001b[0m\u001b[0mtmp_x\u001b[0m\u001b[0;34m)\u001b[0m\u001b[0;34m\u001b[0m\u001b[0m\n",
      "\u001b[0;31mKeyboardInterrupt\u001b[0m: "
     ]
    }
   ],
   "source": [
    "from tqdm import tqdm as tqdm\n",
    "\n",
    "x_test = []\n",
    "y_test = []\n",
    "for t in tqdm(test_anomaly):\n",
    "    tmp_x = []\n",
    "    tmp_y = []\n",
    "    for st in range(len(t) - h):\n",
    "        tmp_x.append(np.array([to_categorical(x-1, num_classes=k) for x in t[st:st+h]]))\n",
    "        tmp_y.append(to_categorical(t[st+h]-1, num_classes=k))\n",
    "    x_test.append(tmp_x)\n",
    "    y_test.append(tmp_y)\n",
    "        \n",
    "# x_test = np.array(x_test)\n",
    "# y_test = np.array(y_test)\n",
    "\n",
    "x_test2 = []\n",
    "y_test2 = []\n",
    "for t in tqdm(test_normal):\n",
    "    tmp_x = [] \n",
    "    tmp_y = []\n",
    "    for st in range(len(t) - h):\n",
    "        tmp_x.append(np.array([to_categorical(x-1, num_classes=k) for x in t[st:st+h]]))\n",
    "        tmp_y.append(to_categorical(t[st+h]-1, num_classes=k))\n",
    "    x_test2.append(tmp_x)\n",
    "    y_test2.append(tmp_y)\n",
    "        \n",
    "# x_test2 = np.array(x_test2)\n",
    "# y_test2 = np.array(y_test2)"
   ]
  },
  {
   "cell_type": "code",
   "execution_count": null,
   "metadata": {},
   "outputs": [],
   "source": [
    "print(x_train.shape)\n",
    "print(y_train.shape)\n",
    "print(x_test.shape)\n",
    "print(y_test.shape)\n",
    "print(x_test2.shape)\n",
    "print(y_test2.shape)"
   ]
  },
  {
   "cell_type": "code",
   "execution_count": 46,
   "metadata": {},
   "outputs": [],
   "source": [
    "input_layer = Input(shape=(h, k))\n",
    "lstm_layer = LSTM(a, return_sequences=True)(input_layer)\n",
    "lstm_layer = LSTM(a)(lstm_layer)\n",
    "output_layer = Dense(k, activation=\"softmax\")(lstm_layer)\n",
    "\n",
    "model = Model(inputs=input_layer, outputs=output_layer)"
   ]
  },
  {
   "cell_type": "code",
   "execution_count": 47,
   "metadata": {},
   "outputs": [
    {
     "name": "stdout",
     "output_type": "stream",
     "text": [
      "_________________________________________________________________\n",
      "Layer (type)                 Output Shape              Param #   \n",
      "=================================================================\n",
      "input_3 (InputLayer)         (None, 10, 29)            0         \n",
      "_________________________________________________________________\n",
      "lstm_5 (LSTM)                (None, 10, 64)            24064     \n",
      "_________________________________________________________________\n",
      "lstm_6 (LSTM)                (None, 64)                33024     \n",
      "_________________________________________________________________\n",
      "dense_3 (Dense)              (None, 29)                1885      \n",
      "=================================================================\n",
      "Total params: 58,973\n",
      "Trainable params: 58,973\n",
      "Non-trainable params: 0\n",
      "_________________________________________________________________\n"
     ]
    }
   ],
   "source": [
    "model.summary()"
   ]
  },
  {
   "cell_type": "code",
   "execution_count": 48,
   "metadata": {},
   "outputs": [],
   "source": [
    "model.compile(optimizer=\"adam\", loss=\"categorical_crossentropy\", metrics=[\"accuracy\"])"
   ]
  },
  {
   "cell_type": "code",
   "execution_count": 50,
   "metadata": {
    "scrolled": true
   },
   "outputs": [
    {
     "name": "stdout",
     "output_type": "stream",
     "text": [
      "Epoch 1/80\n",
      "46573/46573 [==============================] - 4s 95us/step - loss: 1.1534 - acc: 0.6689\n",
      "Epoch 2/80\n",
      "46573/46573 [==============================] - 4s 84us/step - loss: 0.4353 - acc: 0.8309\n",
      "Epoch 3/80\n",
      "46573/46573 [==============================] - 4s 84us/step - loss: 0.3698 - acc: 0.8651\n",
      "Epoch 4/80\n",
      "46573/46573 [==============================] - 4s 84us/step - loss: 0.3322 - acc: 0.8729\n",
      "Epoch 5/80\n",
      "46573/46573 [==============================] - 4s 84us/step - loss: 0.3083 - acc: 0.8769\n",
      "Epoch 6/80\n",
      "46573/46573 [==============================] - 4s 84us/step - loss: 0.2907 - acc: 0.8832\n",
      "Epoch 7/80\n",
      "46573/46573 [==============================] - 4s 84us/step - loss: 0.2751 - acc: 0.8909\n",
      "Epoch 8/80\n",
      "46573/46573 [==============================] - 4s 84us/step - loss: 0.2652 - acc: 0.8977\n",
      "Epoch 9/80\n",
      "46573/46573 [==============================] - 4s 84us/step - loss: 0.2564 - acc: 0.9002\n",
      "Epoch 10/80\n",
      "46573/46573 [==============================] - 4s 84us/step - loss: 0.2502 - acc: 0.9029\n",
      "Epoch 11/80\n",
      "46573/46573 [==============================] - 4s 84us/step - loss: 0.2434 - acc: 0.9058\n",
      "Epoch 12/80\n",
      "46573/46573 [==============================] - 4s 84us/step - loss: 0.2384 - acc: 0.9069\n",
      "Epoch 13/80\n",
      "46573/46573 [==============================] - 4s 84us/step - loss: 0.2333 - acc: 0.9084\n",
      "Epoch 14/80\n",
      "46573/46573 [==============================] - 4s 84us/step - loss: 0.2295 - acc: 0.9095\n",
      "Epoch 15/80\n",
      "46573/46573 [==============================] - 4s 84us/step - loss: 0.2253 - acc: 0.9107\n",
      "Epoch 16/80\n",
      "46573/46573 [==============================] - 4s 84us/step - loss: 0.2234 - acc: 0.9116\n",
      "Epoch 17/80\n",
      "46573/46573 [==============================] - 4s 84us/step - loss: 0.2211 - acc: 0.9119\n",
      "Epoch 18/80\n",
      "46573/46573 [==============================] - 4s 84us/step - loss: 0.2190 - acc: 0.9125\n",
      "Epoch 19/80\n",
      "46573/46573 [==============================] - 4s 84us/step - loss: 0.2180 - acc: 0.9127\n",
      "Epoch 20/80\n",
      "46573/46573 [==============================] - 4s 84us/step - loss: 0.2159 - acc: 0.9134\n",
      "Epoch 21/80\n",
      "46573/46573 [==============================] - 4s 84us/step - loss: 0.2148 - acc: 0.9140\n",
      "Epoch 22/80\n",
      "46573/46573 [==============================] - 4s 84us/step - loss: 0.2133 - acc: 0.9153\n",
      "Epoch 23/80\n",
      "46573/46573 [==============================] - 4s 84us/step - loss: 0.2121 - acc: 0.9148\n",
      "Epoch 24/80\n",
      "46573/46573 [==============================] - 4s 84us/step - loss: 0.2109 - acc: 0.9156\n",
      "Epoch 25/80\n",
      "46573/46573 [==============================] - 4s 84us/step - loss: 0.2102 - acc: 0.9152\n",
      "Epoch 26/80\n",
      "46573/46573 [==============================] - 4s 84us/step - loss: 0.2093 - acc: 0.9163\n",
      "Epoch 27/80\n",
      "46573/46573 [==============================] - 4s 84us/step - loss: 0.2092 - acc: 0.9164\n",
      "Epoch 28/80\n",
      "46573/46573 [==============================] - 4s 84us/step - loss: 0.2078 - acc: 0.9169\n",
      "Epoch 29/80\n",
      "46573/46573 [==============================] - 4s 84us/step - loss: 0.2068 - acc: 0.9167\n",
      "Epoch 30/80\n",
      "46573/46573 [==============================] - 4s 84us/step - loss: 0.2062 - acc: 0.9178\n",
      "Epoch 31/80\n",
      "46573/46573 [==============================] - 4s 84us/step - loss: 0.2056 - acc: 0.9172\n",
      "Epoch 32/80\n",
      "46573/46573 [==============================] - 4s 84us/step - loss: 0.2049 - acc: 0.9173\n",
      "Epoch 33/80\n",
      "46573/46573 [==============================] - 4s 84us/step - loss: 0.2060 - acc: 0.9171\n",
      "Epoch 34/80\n",
      "46573/46573 [==============================] - 4s 84us/step - loss: 0.2043 - acc: 0.9185\n",
      "Epoch 35/80\n",
      "46573/46573 [==============================] - 4s 84us/step - loss: 0.2035 - acc: 0.9172\n",
      "Epoch 36/80\n",
      "46573/46573 [==============================] - 4s 84us/step - loss: 0.2039 - acc: 0.9178\n",
      "Epoch 37/80\n",
      "46573/46573 [==============================] - 4s 84us/step - loss: 0.2027 - acc: 0.9182\n",
      "Epoch 38/80\n",
      "46573/46573 [==============================] - 4s 84us/step - loss: 0.2016 - acc: 0.9188\n",
      "Epoch 39/80\n",
      "46573/46573 [==============================] - 4s 84us/step - loss: 0.2013 - acc: 0.9193\n",
      "Epoch 40/80\n",
      "46573/46573 [==============================] - 4s 84us/step - loss: 0.2012 - acc: 0.9195\n",
      "Epoch 41/80\n",
      "46573/46573 [==============================] - 4s 84us/step - loss: 0.2005 - acc: 0.9193\n",
      "Epoch 42/80\n",
      "46573/46573 [==============================] - 4s 84us/step - loss: 0.1996 - acc: 0.9193\n",
      "Epoch 43/80\n",
      "46573/46573 [==============================] - 4s 84us/step - loss: 0.2001 - acc: 0.9192\n",
      "Epoch 44/80\n",
      "46573/46573 [==============================] - 4s 84us/step - loss: 0.1990 - acc: 0.9190\n",
      "Epoch 45/80\n",
      "46573/46573 [==============================] - 4s 84us/step - loss: 0.1997 - acc: 0.9194\n",
      "Epoch 46/80\n",
      "46573/46573 [==============================] - 4s 84us/step - loss: 0.1989 - acc: 0.9189\n",
      "Epoch 47/80\n",
      "46573/46573 [==============================] - 4s 84us/step - loss: 0.1978 - acc: 0.9204\n",
      "Epoch 48/80\n",
      "46573/46573 [==============================] - 4s 84us/step - loss: 0.1981 - acc: 0.9195\n",
      "Epoch 49/80\n",
      "46573/46573 [==============================] - 4s 84us/step - loss: 0.1980 - acc: 0.9199\n",
      "Epoch 50/80\n",
      "46573/46573 [==============================] - 4s 84us/step - loss: 0.1980 - acc: 0.9200\n",
      "Epoch 51/80\n",
      "46573/46573 [==============================] - 4s 84us/step - loss: 0.1968 - acc: 0.9197\n",
      "Epoch 52/80\n",
      "46573/46573 [==============================] - 4s 84us/step - loss: 0.1968 - acc: 0.9203\n",
      "Epoch 53/80\n",
      "46573/46573 [==============================] - 4s 84us/step - loss: 0.1962 - acc: 0.9204\n",
      "Epoch 54/80\n",
      "46573/46573 [==============================] - 4s 84us/step - loss: 0.1964 - acc: 0.9207\n",
      "Epoch 55/80\n",
      "46573/46573 [==============================] - 4s 84us/step - loss: 0.1962 - acc: 0.9204\n",
      "Epoch 56/80\n",
      "46573/46573 [==============================] - 4s 84us/step - loss: 0.1960 - acc: 0.9201\n",
      "Epoch 57/80\n",
      "46573/46573 [==============================] - 4s 84us/step - loss: 0.1950 - acc: 0.9212\n",
      "Epoch 58/80\n",
      "46573/46573 [==============================] - 4s 84us/step - loss: 0.1951 - acc: 0.9208\n",
      "Epoch 59/80\n",
      "46573/46573 [==============================] - 4s 84us/step - loss: 0.1945 - acc: 0.9208\n",
      "Epoch 60/80\n",
      "46573/46573 [==============================] - 4s 84us/step - loss: 0.1947 - acc: 0.9208\n",
      "Epoch 61/80\n",
      "46573/46573 [==============================] - 4s 84us/step - loss: 0.1938 - acc: 0.9215\n",
      "Epoch 62/80\n",
      "46573/46573 [==============================] - 4s 84us/step - loss: 0.1935 - acc: 0.9220\n",
      "Epoch 63/80\n",
      "46573/46573 [==============================] - 4s 84us/step - loss: 0.1940 - acc: 0.9210\n",
      "Epoch 64/80\n",
      "46573/46573 [==============================] - 4s 84us/step - loss: 0.1929 - acc: 0.9216\n",
      "Epoch 65/80\n",
      "46573/46573 [==============================] - 4s 84us/step - loss: 0.1934 - acc: 0.9215\n",
      "Epoch 66/80\n",
      "46573/46573 [==============================] - 4s 84us/step - loss: 0.1933 - acc: 0.9209\n",
      "Epoch 67/80\n",
      "46573/46573 [==============================] - 4s 84us/step - loss: 0.1935 - acc: 0.9216\n",
      "Epoch 68/80\n",
      "46573/46573 [==============================] - 4s 84us/step - loss: 0.1927 - acc: 0.9223\n",
      "Epoch 69/80\n",
      "46573/46573 [==============================] - 4s 84us/step - loss: 0.1924 - acc: 0.9222\n",
      "Epoch 70/80\n",
      "46573/46573 [==============================] - 4s 84us/step - loss: 0.1921 - acc: 0.9214\n",
      "Epoch 71/80\n",
      "46573/46573 [==============================] - 4s 84us/step - loss: 0.1925 - acc: 0.9220\n",
      "Epoch 72/80\n",
      "46573/46573 [==============================] - 4s 84us/step - loss: 0.1916 - acc: 0.9224\n",
      "Epoch 73/80\n",
      "46573/46573 [==============================] - 4s 84us/step - loss: 0.1914 - acc: 0.9228\n",
      "Epoch 74/80\n",
      "46573/46573 [==============================] - 4s 84us/step - loss: 0.1918 - acc: 0.9222\n",
      "Epoch 75/80\n",
      "46573/46573 [==============================] - 4s 84us/step - loss: 0.1913 - acc: 0.9225\n",
      "Epoch 76/80\n",
      "46573/46573 [==============================] - 4s 84us/step - loss: 0.1915 - acc: 0.9227\n",
      "Epoch 77/80\n",
      "46573/46573 [==============================] - 4s 84us/step - loss: 0.1906 - acc: 0.9224\n",
      "Epoch 78/80\n",
      "46573/46573 [==============================] - 4s 84us/step - loss: 0.1905 - acc: 0.9230\n",
      "Epoch 79/80\n",
      "46573/46573 [==============================] - 4s 84us/step - loss: 0.1901 - acc: 0.9217\n",
      "Epoch 80/80\n",
      "46573/46573 [==============================] - 4s 84us/step - loss: 0.1904 - acc: 0.9226\n"
     ]
    },
    {
     "data": {
      "text/plain": [
       "<keras.callbacks.History at 0x7fabe98e93c8>"
      ]
     },
     "execution_count": 50,
     "metadata": {},
     "output_type": "execute_result"
    }
   ],
   "source": [
    "model.fit(x_train, y_train, batch_size=256, epochs=80, callbacks=[ReduceLROnPlateau(monitor='loss', verbose=1)])"
   ]
  },
  {
   "cell_type": "code",
   "execution_count": 51,
   "metadata": {},
   "outputs": [],
   "source": [
    "history = model.history.history"
   ]
  },
  {
   "cell_type": "code",
   "execution_count": 52,
   "metadata": {},
   "outputs": [
    {
     "data": {
      "image/png": "[encoded data removed]",
      "text/plain": [
       "<matplotlib.figure.Figure at 0x7fab93b9b908>"
      ]
     },
     "metadata": {},
     "output_type": "display_data"
    }
   ],
   "source": [
    "import  matplotlib.pyplot  as plt\n",
    "\n",
    "# plot results\n",
    "loss = history['loss']\n",
    "# val_loss = history.history['val_loss']\n",
    "\n",
    "acc = history['acc']\n",
    "# val_acc = history.history['val_acc']\n",
    "\n",
    "plt.figure(figsize=(10,10))\n",
    "plt.subplot(2,1,1)\n",
    "plt.title('Loss')\n",
    "epochs = len(loss)\n",
    "plt.plot(range(epochs), loss, marker='.', label='loss')\n",
    "# plt.plot(range(epochs), val_loss, marker='.', label='val_loss')\n",
    "plt.legend(loc='best')\n",
    "plt.grid()\n",
    "plt.xlabel('epoch')\n",
    "plt.ylabel('acc')\n",
    "\n",
    "plt.subplot(2,1,2)\n",
    "plt.title('Accuracy')\n",
    "plt.plot(range(epochs), acc, marker='.', label='acc')\n",
    "# plt.plot(range(epochs), val_acc, marker='.', label='val_acc')\n",
    "plt.legend(loc='best')\n",
    "plt.grid()\n",
    "plt.xlabel('epoch')\n",
    "plt.ylabel('acc')\n",
    "plt.show()"
   ]
  },
  {
   "cell_type": "code",
   "execution_count": 54,
   "metadata": {},
   "outputs": [],
   "source": [
    "pred = model.predict(x_test)"
   ]
  },
  {
   "cell_type": "code",
   "execution_count": 112,
   "metadata": {},
   "outputs": [
    {
     "data": {
      "text/plain": [
       "[array([25, 10,  2, 22,  1, 15, 24, 21, 17]),\n",
       " array([25, 10, 24, 17,  2,  1, 21, 22, 15]),\n",
       " array([25, 10, 17, 24,  2, 21, 22,  1,  3]),\n",
       " array([22,  3,  1,  2, 24, 20, 17, 25, 21]),\n",
       " array([ 2,  3,  1, 22, 24,  8, 17, 20,  5]),\n",
       " array([ 2,  3, 22,  1,  8, 24, 25, 20, 21]),\n",
       " array([ 1, 22,  3,  2, 24, 20, 25, 17,  8]),\n",
       " array([22,  1,  3,  2, 24, 20, 17, 25, 15]),\n",
       " array([22,  1,  3,  2, 20, 25, 24, 10, 15]),\n",
       " array([22,  1,  3, 20,  2, 10, 24, 25, 15]),\n",
       " array([20,  1, 22,  3,  2, 24, 10,  4, 15]),\n",
       " array([20,  1,  3,  2, 24, 22, 15, 25, 10]),\n",
       " array([20,  3,  1,  2, 24, 15, 25, 22,  5]),\n",
       " array([20,  3,  2, 24,  1, 25, 15, 10, 22]),\n",
       " array([20,  3,  2, 24,  1, 15,  5, 25, 10])]"
      ]
     },
     "execution_count": 112,
     "metadata": {},
     "output_type": "execute_result"
    }
   ],
   "source": [
    "cands"
   ]
  },
  {
   "cell_type": "code",
   "execution_count": 124,
   "metadata": {
    "scrolled": true
   },
   "outputs": [],
   "source": [
    "# anomaly = []\n",
    "# normal = []\n",
    "\n",
    "results = []\n",
    "for block, y in zip(x_test, y_test):\n",
    "    if len(block) != 0:\n",
    "        pred = model.predict(np.array(block))\n",
    "        cands = [np.argsort(p)[::-1][:g] for p in pred]\n",
    "\n",
    "        gts = [np.argmax(t) for t in y]\n",
    "\n",
    "        # true -> normal, false -> anomaly\n",
    "        result = all([True if gts[i] in cands[i]  else False for i in range(len(gts))])\n",
    "        results.append(result)"
   ]
  },
  {
   "cell_type": "code",
   "execution_count": 127,
   "metadata": {},
   "outputs": [
    {
     "data": {
      "text/plain": [
       "16838"
      ]
     },
     "execution_count": 127,
     "metadata": {},
     "output_type": "execute_result"
    }
   ],
   "source": [
    "len(x_test)"
   ]
  },
  {
   "cell_type": "code",
   "execution_count": 129,
   "metadata": {},
   "outputs": [
    {
     "data": {
      "text/plain": [
       "Counter({False: 10501, True: 144})"
      ]
     },
     "execution_count": 129,
     "metadata": {},
     "output_type": "execute_result"
    }
   ],
   "source": [
    "import collections\n",
    "collections.Counter(results)"
   ]
  },
  {
   "cell_type": "markdown",
   "metadata": {},
   "source": [
    "## PCA"
   ]
  },
  {
   "cell_type": "code",
   "execution_count": 131,
   "metadata": {},
   "outputs": [
    {
     "name": "stdout",
     "output_type": "stream",
     "text": [
      "Anomalies: 16838\n"
     ]
    }
   ],
   "source": [
    "with open(\"deeplog-hdfs/hdfs_train\", 'r') as f:\n",
    "    data = f.readlines()\n",
    "    \n",
    "train_data = []\n",
    "for i in data:\n",
    "    ts = i.strip().split()\n",
    "    if len(ts) == 0 :\n",
    "        pass\n",
    "    else:\n",
    "        train_data.append(np.array([int(t) for t in ts]))\n",
    "\n",
    "with open(\"deeplog-hdfs/hdfs_test_abnormal\", 'r') as f:\n",
    "    data = f.readlines()\n",
    "    \n",
    "test_anomaly = []\n",
    "for i in data:\n",
    "    ts = i.strip().split()\n",
    "    if len(ts) == 0 :\n",
    "        pass\n",
    "    else:\n",
    "        test_anomaly.append(np.array([int(t) for t in ts]))\n",
    "\n",
    "print(\"Anomalies:\", len(test_anomaly))\n",
    "        \n",
    "# with open(\"deeplog-hdfs/hdfs_test_normal\", 'r') as f:\n",
    "#     data = f.readlines()\n",
    "    \n",
    "# test_normal = []\n",
    "# for i in data:\n",
    "#     ts = i.strip().split()\n",
    "#     if len(ts) == 0 :\n",
    "#         pass\n",
    "#     else:\n",
    "#         test_normal.append(np.array([int(t) for t in ts]))"
   ]
  },
  {
   "cell_type": "code",
   "execution_count": 148,
   "metadata": {},
   "outputs": [],
   "source": [
    "pca_train = []\n",
    "for i in train_data:\n",
    "    counts = collections.Counter(i)\n",
    "    row = np.zeros(k)\n",
    "    for key,value in counts.items():\n",
    "        row[key-1] = value\n",
    "    pca_train.append(row)\n",
    "    \n",
    "    \n",
    "pca_test = []\n",
    "for i in test_anomaly:\n",
    "    counts = collections.Counter(i)\n",
    "    row = np.zeros(k)\n",
    "    for key,value in counts.items():\n",
    "        row[key-1] = value\n",
    "    pca_test.append(row)"
   ]
  },
  {
   "cell_type": "code",
   "execution_count": 142,
   "metadata": {},
   "outputs": [
    {
     "data": {
      "text/plain": [
       "(4855, 29)"
      ]
     },
     "execution_count": 142,
     "metadata": {},
     "output_type": "execute_result"
    }
   ],
   "source": [
    "np.array(pca_train).shape"
   ]
  },
  {
   "cell_type": "code",
   "execution_count": 144,
   "metadata": {},
   "outputs": [
    {
     "data": {
      "text/html": [
       "<script>requirejs.config({paths: { 'plotly': ['https://cdn.plot.ly/plotly-latest.min']},});if(!window.Plotly) {{require(['plotly'],function(plotly) {window.Plotly=plotly;});}}</script>"
      ],
      "text/vnd.plotly.v1+html": [
       "<script>requirejs.config({paths: { 'plotly': ['https://cdn.plot.ly/plotly-latest.min']},});if(!window.Plotly) {{require(['plotly'],function(plotly) {window.Plotly=plotly;});}}</script>"
      ]
     },
     "metadata": {},
     "output_type": "display_data"
    },
    {
     "name": "stdout",
     "output_type": "stream",
     "text": [
      "time: 0.026845216751098633\n",
      "(4855, 29)\n",
      "(29, 29)\n",
      "(29,)\n",
      "0.011206625989657722\n",
      "0.0001808449074074074\n"
     ]
    },
    {
     "data": {
      "application/vnd.plotly.v1+json": {
       "data": [
        {
         "marker": {
          "line": {
           "color": "rgba(217, 217, 217, 0.14)",
           "width": 0.3
          },
          "opacity": 0.8,
          "size": 6
         },
         "mode": "lines+markers",
         "type": "scatter",
         "x": [
          0,
          1,
          2,
          3,
          4,
          5,
          6,
          7,
          8,
          9,
          10,
          11,
          12,
          13,
          14,
          15,
          16,
          17,
          18,
          19,
          20,
          21,
          22,
          23,
          24,
          25,
          26,
          27,
          28
         ],
         "y": [
          0.5426991876192223,
          0.2585473999793664,
          0.15204926844513827,
          0.03331070000896675,
          0.013375122299658303,
          1.8321647647761795e-05,
          3.828597265789832e-29,
          2.626967946819055e-31,
          3.589403266295788e-33,
          3.589403266295788e-33,
          3.589403266295788e-33,
          3.589403266295788e-33,
          3.589403266295788e-33,
          3.589403266295788e-33,
          3.589403266295788e-33,
          3.589403266295788e-33,
          3.589403266295788e-33,
          3.589403266295788e-33,
          3.589403266295788e-33,
          3.589403266295788e-33,
          3.589403266295788e-33,
          3.589403266295788e-33,
          3.589403266295788e-33,
          3.589403266295788e-33,
          3.589403266295788e-33,
          3.589403266295788e-33,
          3.589403266295788e-33,
          3.589403266295788e-33,
          3.588677509400782e-33
         ]
        }
       ],
       "layout": {
        "title": "variance captured",
        "xaxis": {
         "title": "x"
        },
        "yaxis": {
         "title": "y"
        }
       }
      },
      "text/html": [
       "<div id=\"759bd3d6-d66e-4e8a-babb-5d7a36d5aeff\" style=\"height: 525px; width: 100%;\" class=\"plotly-graph-div\"></div><script type=\"text/javascript\">require([\"plotly\"], function(Plotly) { window.PLOTLYENV=window.PLOTLYENV || {};window.PLOTLYENV.BASE_URL=\"https://plot.ly\";Plotly.newPlot(\"759bd3d6-d66e-4e8a-babb-5d7a36d5aeff\", [{\"type\": \"scatter\", \"x\": [0, 1, 2, 3, 4, 5, 6, 7, 8, 9, 10, 11, 12, 13, 14, 15, 16, 17, 18, 19, 20, 21, 22, 23, 24, 25, 26, 27, 28], \"y\": [0.5426991876192223, 0.2585473999793664, 0.15204926844513827, 0.03331070000896675, 0.013375122299658303, 1.8321647647761795e-05, 3.828597265789832e-29, 2.626967946819055e-31, 3.589403266295788e-33, 3.589403266295788e-33, 3.589403266295788e-33, 3.589403266295788e-33, 3.589403266295788e-33, 3.589403266295788e-33, 3.589403266295788e-33, 3.589403266295788e-33, 3.589403266295788e-33, 3.589403266295788e-33, 3.589403266295788e-33, 3.589403266295788e-33, 3.589403266295788e-33, 3.589403266295788e-33, 3.589403266295788e-33, 3.589403266295788e-33, 3.589403266295788e-33, 3.589403266295788e-33, 3.589403266295788e-33, 3.589403266295788e-33, 3.588677509400782e-33], \"mode\": \"lines+markers\", \"marker\": {\"size\": 6, \"line\": {\"color\": \"rgba(217, 217, 217, 0.14)\", \"width\": 0.3}, \"opacity\": 0.8}}], {\"title\": \"variance captured\", \"xaxis\": {\"title\": \"x\"}, \"yaxis\": {\"title\": \"y\"}}, {\"showLink\": true, \"linkText\": \"Export to plot.ly\"})});</script>"
      ],
      "text/vnd.plotly.v1+html": [
       "<div id=\"759bd3d6-d66e-4e8a-babb-5d7a36d5aeff\" style=\"height: 525px; width: 100%;\" class=\"plotly-graph-div\"></div><script type=\"text/javascript\">require([\"plotly\"], function(Plotly) { window.PLOTLYENV=window.PLOTLYENV || {};window.PLOTLYENV.BASE_URL=\"https://plot.ly\";Plotly.newPlot(\"759bd3d6-d66e-4e8a-babb-5d7a36d5aeff\", [{\"type\": \"scatter\", \"x\": [0, 1, 2, 3, 4, 5, 6, 7, 8, 9, 10, 11, 12, 13, 14, 15, 16, 17, 18, 19, 20, 21, 22, 23, 24, 25, 26, 27, 28], \"y\": [0.5426991876192223, 0.2585473999793664, 0.15204926844513827, 0.03331070000896675, 0.013375122299658303, 1.8321647647761795e-05, 3.828597265789832e-29, 2.626967946819055e-31, 3.589403266295788e-33, 3.589403266295788e-33, 3.589403266295788e-33, 3.589403266295788e-33, 3.589403266295788e-33, 3.589403266295788e-33, 3.589403266295788e-33, 3.589403266295788e-33, 3.589403266295788e-33, 3.589403266295788e-33, 3.589403266295788e-33, 3.589403266295788e-33, 3.589403266295788e-33, 3.589403266295788e-33, 3.589403266295788e-33, 3.589403266295788e-33, 3.589403266295788e-33, 3.589403266295788e-33, 3.589403266295788e-33, 3.589403266295788e-33, 3.588677509400782e-33], \"mode\": \"lines+markers\", \"marker\": {\"size\": 6, \"line\": {\"color\": \"rgba(217, 217, 217, 0.14)\", \"width\": 0.3}, \"opacity\": 0.8}}], {\"title\": \"variance captured\", \"xaxis\": {\"title\": \"x\"}, \"yaxis\": {\"title\": \"y\"}}, {\"showLink\": true, \"linkText\": \"Export to plot.ly\"})});</script>"
      ]
     },
     "metadata": {},
     "output_type": "display_data"
    }
   ],
   "source": [
    "from sklearn.decomposition import PCA\n",
    "import time\n",
    "\n",
    "import plotly.offline as py\n",
    "import plotly.graph_objs as go\n",
    "py.init_notebook_mode(connected=True)\n",
    "import numpy as np\n",
    "\n",
    "%matplotlib inline\n",
    "\n",
    "st = time.time()\n",
    "pca = PCA(svd_solver=\"full\")\n",
    "\n",
    "reduced_data = pca.fit_transform(pca_train)\n",
    "\n",
    "print(\"time:\", time.time() - st)\n",
    "print(reduced_data.shape)\n",
    "print(pca.components_.shape)\n",
    "print(pca.explained_variance_ratio_.shape)\n",
    "print(pca.components_.mean())\n",
    "print(np.sum(pca.components_ == 0.) / (1440*1440))\n",
    "\n",
    "## check variance captured\n",
    "\n",
    "color = 'rgba(217, 217, 217, 0.14)'\n",
    "\n",
    "traces = []\n",
    "\n",
    "traces.append(go.Scatter(\n",
    "    x=np.arange(pca.explained_variance_ratio_.shape[0]),\n",
    "    y=pca.explained_variance_ratio_,\n",
    "    mode='lines+markers',\n",
    "    marker=dict(size=6, line=dict(color=color, width=0.3), opacity=0.8)\n",
    "))\n",
    "\n",
    "plot_data = traces\n",
    "layout = go.Layout(\n",
    "        title=\"variance captured\",\n",
    "        xaxis=dict(title=\"x\"),\n",
    "        yaxis=dict(title=\"y\")\n",
    ")\n",
    "fig = go.Figure(data=plot_data, layout=layout)\n",
    "py.iplot(fig)"
   ]
  },
  {
   "cell_type": "code",
   "execution_count": 154,
   "metadata": {},
   "outputs": [
    {
     "name": "stdout",
     "output_type": "stream",
     "text": [
      "time: 0.04120039939880371\n",
      "time: 0.14377999305725098\n"
     ]
    }
   ],
   "source": [
    "### for normal\n",
    "\n",
    "centered_data = pca_train - np.mean(pca_train, axis=0)\n",
    "\n",
    "# split to normal and anomaly space\n",
    "st  = time.time()\n",
    "num_normal_components = 5\n",
    "\n",
    "P = pca.components_[:num_normal_components].T\n",
    "mapper = np.dot(P, P.T)\n",
    "ones = np.eye(k)\n",
    "\n",
    "def spe(x):\n",
    "#     reconst = np.dot((np.eye(1440) - np.dot(P, P.T)), x)\n",
    "    reconst = np.dot(ones - mapper, x)\n",
    "    return np.linalg.norm(reconst)**2\n",
    "\n",
    "norm_errors = [spe(x) for x in centered_data]\n",
    "    \n",
    "print(\"time:\", time.time() - st)\n",
    "\n",
    "\n",
    "#### for anomaly\n",
    "centered_data = pca_test - np.mean(pca_test, axis=0)\n",
    "\n",
    "# split to normal and anomaly space\n",
    "st  = time.time()\n",
    "num_normal_components = 5\n",
    "\n",
    "P = pca.components_[:num_normal_components].T\n",
    "mapper = np.dot(P, P.T)\n",
    "ones = np.eye(k)\n",
    "\n",
    "def spe(x):\n",
    "#     reconst = np.dot((np.eye(1440) - np.dot(P, P.T)), x)\n",
    "    reconst = np.dot(ones - mapper, x)\n",
    "    return np.linalg.norm(reconst)**2\n",
    "\n",
    "errors = [spe(x) for x in centered_data]\n",
    "    \n",
    "print(\"time:\", time.time() - st)"
   ]
  },
  {
   "cell_type": "code",
   "execution_count": 155,
   "metadata": {},
   "outputs": [
    {
     "data": {
      "image/png": "[encoded data removed]",
      "text/plain": [
       "<matplotlib.figure.Figure at 0x7faa23027208>"
      ]
     },
     "metadata": {},
     "output_type": "display_data"
    },
    {
     "data": {
      "image/png": "[encoded data removed]",
      "text/plain": [
       "<matplotlib.figure.Figure at 0x7faa23e63cf8>"
      ]
     },
     "metadata": {},
     "output_type": "display_data"
    }
   ],
   "source": [
    "plt.figure(figsize=(15, 8))\n",
    "plt.plot(norm_errors)\n",
    "plt.show()\n",
    "\n",
    "plt.figure(figsize=(15, 8))\n",
    "plt.plot(errors)\n",
    "plt.show()"
   ]
  }
 ],
 "metadata": {
  "kernelspec": {
   "display_name": "Python 3",
   "language": "python",
   "name": "python3"
  },
  "language_info": {
   "codemirror_mode": {
    "name": "ipython",
    "version": 3
   },
   "file_extension": ".py",
   "mimetype": "text/x-python",
   "name": "python",
   "nbconvert_exporter": "python",
   "pygments_lexer": "ipython3",
   "version": "3.6.1"
  }
 },
 "nbformat": 4,
 "nbformat_minor": 2
}
