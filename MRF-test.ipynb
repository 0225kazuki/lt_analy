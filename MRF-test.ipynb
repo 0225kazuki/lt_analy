{
 "cells": [
  {
   "cell_type": "code",
   "execution_count": 1,
   "metadata": {},
   "outputs": [],
   "source": [
    "import networkx as nx\n",
    "import numpy as np\n",
    "import matplotlib.pyplot as plt\n",
    "from collections import defaultdict\n",
    "%matplotlib inline"
   ]
  },
  {
   "cell_type": "code",
   "execution_count": 3,
   "metadata": {},
   "outputs": [],
   "source": [
    "nw = nx.grid_2d_graph(3, 3)"
   ]
  },
  {
   "cell_type": "code",
   "execution_count": 4,
   "metadata": {},
   "outputs": [],
   "source": [
    "pos = {n: (n[0], -n[1]) for n in nw.nodes()}"
   ]
  },
  {
   "cell_type": "code",
   "execution_count": 5,
   "metadata": {},
   "outputs": [
    {
     "data": {
      "text/plain": [
       "{(0, 0): (0, 0),\n",
       " (0, 1): (0, -1),\n",
       " (0, 2): (0, -2),\n",
       " (1, 0): (1, 0),\n",
       " (1, 1): (1, -1),\n",
       " (1, 2): (1, -2),\n",
       " (2, 0): (2, 0),\n",
       " (2, 1): (2, -1),\n",
       " (2, 2): (2, -2)}"
      ]
     },
     "execution_count": 5,
     "metadata": {},
     "output_type": "execute_result"
    }
   ],
   "source": [
    "pos"
   ]
  },
  {
   "cell_type": "code",
   "execution_count": 11,
   "metadata": {},
   "outputs": [
    {
     "data": {
      "image/png": "[encoded data removed]",
      "text/plain": [
       "<matplotlib.figure.Figure at 0x7f19978a9ef0>"
      ]
     },
     "metadata": {},
     "output_type": "display_data"
    }
   ],
   "source": [
    "nx.draw_networkx(nw, pos=pos, node_color='w')\n",
    "plt.gca().xaxis.set_visible(False)\n",
    "plt.gca().yaxis.set_visible(False)\n",
    "plt.show()"
   ]
  },
  {
   "cell_type": "code",
   "execution_count": 21,
   "metadata": {},
   "outputs": [
    {
     "data": {
      "text/plain": [
       "[(0, 1), (2, 1), (1, 0), (1, 2)]"
      ]
     },
     "execution_count": 21,
     "metadata": {},
     "output_type": "execute_result"
    }
   ],
   "source": [
    "[a for a in nw[(1, 1)] if isinstance(a, tuple)]"
   ]
  },
  {
   "cell_type": "code",
   "execution_count": 19,
   "metadata": {},
   "outputs": [
    {
     "name": "stdout",
     "output_type": "stream",
     "text": [
      "12\n",
      "[((0, 0), (1, 0)), ((0, 0), (0, 1)), ((0, 1), (1, 1)), ((0, 1), (0, 2)), ((0, 2), (1, 2)), ((1, 0), (2, 0)), ((1, 0), (1, 1)), ((1, 1), (2, 1)), ((1, 1), (1, 2)), ((1, 2), (2, 2)), ((2, 0), (2, 1)), ((2, 1), (2, 2))]\n"
     ]
    },
    {
     "data": {
      "text/plain": [
       "12"
      ]
     },
     "execution_count": 19,
     "metadata": {},
     "output_type": "execute_result"
    }
   ],
   "source": [
    "edges = [e for e in nw.edges()]\n",
    "print(len(edges))\n",
    "edges = [e for e in edges if isinstance(e[0], tuple) and isinstance(e[1], tuple)]\n",
    "\n",
    "print(edges)\n",
    "len(edges)"
   ]
  },
  {
   "cell_type": "code",
   "execution_count": 133,
   "metadata": {},
   "outputs": [],
   "source": [
    "visible = nx.grid_2d_graph(28, 28)\n",
    "# nx.set_node_attributes(visible, 10, 'value')\n",
    "visible.nodes(data=True)[(0,0)]['value'] = 5"
   ]
  },
  {
   "cell_type": "code",
   "execution_count": 134,
   "metadata": {
    "scrolled": true
   },
   "outputs": [
    {
     "data": {
      "text/plain": [
       "NodeDataView({(0, 0): {'value': 5}, (0, 1): {}, (0, 2): {}, (0, 3): {}, (0, 4): {}, (0, 5): {}, (0, 6): {}, (0, 7): {}, (0, 8): {}, (0, 9): {}, (0, 10): {}, (0, 11): {}, (0, 12): {}, (0, 13): {}, (0, 14): {}, (0, 15): {}, (0, 16): {}, (0, 17): {}, (0, 18): {}, (0, 19): {}, (0, 20): {}, (0, 21): {}, (0, 22): {}, (0, 23): {}, (0, 24): {}, (0, 25): {}, (0, 26): {}, (0, 27): {}, (1, 0): {}, (1, 1): {}, (1, 2): {}, (1, 3): {}, (1, 4): {}, (1, 5): {}, (1, 6): {}, (1, 7): {}, (1, 8): {}, (1, 9): {}, (1, 10): {}, (1, 11): {}, (1, 12): {}, (1, 13): {}, (1, 14): {}, (1, 15): {}, (1, 16): {}, (1, 17): {}, (1, 18): {}, (1, 19): {}, (1, 20): {}, (1, 21): {}, (1, 22): {}, (1, 23): {}, (1, 24): {}, (1, 25): {}, (1, 26): {}, (1, 27): {}, (2, 0): {}, (2, 1): {}, (2, 2): {}, (2, 3): {}, (2, 4): {}, (2, 5): {}, (2, 6): {}, (2, 7): {}, (2, 8): {}, (2, 9): {}, (2, 10): {}, (2, 11): {}, (2, 12): {}, (2, 13): {}, (2, 14): {}, (2, 15): {}, (2, 16): {}, (2, 17): {}, (2, 18): {}, (2, 19): {}, (2, 20): {}, (2, 21): {}, (2, 22): {}, (2, 23): {}, (2, 24): {}, (2, 25): {}, (2, 26): {}, (2, 27): {}, (3, 0): {}, (3, 1): {}, (3, 2): {}, (3, 3): {}, (3, 4): {}, (3, 5): {}, (3, 6): {}, (3, 7): {}, (3, 8): {}, (3, 9): {}, (3, 10): {}, (3, 11): {}, (3, 12): {}, (3, 13): {}, (3, 14): {}, (3, 15): {}, (3, 16): {}, (3, 17): {}, (3, 18): {}, (3, 19): {}, (3, 20): {}, (3, 21): {}, (3, 22): {}, (3, 23): {}, (3, 24): {}, (3, 25): {}, (3, 26): {}, (3, 27): {}, (4, 0): {}, (4, 1): {}, (4, 2): {}, (4, 3): {}, (4, 4): {}, (4, 5): {}, (4, 6): {}, (4, 7): {}, (4, 8): {}, (4, 9): {}, (4, 10): {}, (4, 11): {}, (4, 12): {}, (4, 13): {}, (4, 14): {}, (4, 15): {}, (4, 16): {}, (4, 17): {}, (4, 18): {}, (4, 19): {}, (4, 20): {}, (4, 21): {}, (4, 22): {}, (4, 23): {}, (4, 24): {}, (4, 25): {}, (4, 26): {}, (4, 27): {}, (5, 0): {}, (5, 1): {}, (5, 2): {}, (5, 3): {}, (5, 4): {}, (5, 5): {}, (5, 6): {}, (5, 7): {}, (5, 8): {}, (5, 9): {}, (5, 10): {}, (5, 11): {}, (5, 12): {}, (5, 13): {}, (5, 14): {}, (5, 15): {}, (5, 16): {}, (5, 17): {}, (5, 18): {}, (5, 19): {}, (5, 20): {}, (5, 21): {}, (5, 22): {}, (5, 23): {}, (5, 24): {}, (5, 25): {}, (5, 26): {}, (5, 27): {}, (6, 0): {}, (6, 1): {}, (6, 2): {}, (6, 3): {}, (6, 4): {}, (6, 5): {}, (6, 6): {}, (6, 7): {}, (6, 8): {}, (6, 9): {}, (6, 10): {}, (6, 11): {}, (6, 12): {}, (6, 13): {}, (6, 14): {}, (6, 15): {}, (6, 16): {}, (6, 17): {}, (6, 18): {}, (6, 19): {}, (6, 20): {}, (6, 21): {}, (6, 22): {}, (6, 23): {}, (6, 24): {}, (6, 25): {}, (6, 26): {}, (6, 27): {}, (7, 0): {}, (7, 1): {}, (7, 2): {}, (7, 3): {}, (7, 4): {}, (7, 5): {}, (7, 6): {}, (7, 7): {}, (7, 8): {}, (7, 9): {}, (7, 10): {}, (7, 11): {}, (7, 12): {}, (7, 13): {}, (7, 14): {}, (7, 15): {}, (7, 16): {}, (7, 17): {}, (7, 18): {}, (7, 19): {}, (7, 20): {}, (7, 21): {}, (7, 22): {}, (7, 23): {}, (7, 24): {}, (7, 25): {}, (7, 26): {}, (7, 27): {}, (8, 0): {}, (8, 1): {}, (8, 2): {}, (8, 3): {}, (8, 4): {}, (8, 5): {}, (8, 6): {}, (8, 7): {}, (8, 8): {}, (8, 9): {}, (8, 10): {}, (8, 11): {}, (8, 12): {}, (8, 13): {}, (8, 14): {}, (8, 15): {}, (8, 16): {}, (8, 17): {}, (8, 18): {}, (8, 19): {}, (8, 20): {}, (8, 21): {}, (8, 22): {}, (8, 23): {}, (8, 24): {}, (8, 25): {}, (8, 26): {}, (8, 27): {}, (9, 0): {}, (9, 1): {}, (9, 2): {}, (9, 3): {}, (9, 4): {}, (9, 5): {}, (9, 6): {}, (9, 7): {}, (9, 8): {}, (9, 9): {}, (9, 10): {}, (9, 11): {}, (9, 12): {}, (9, 13): {}, (9, 14): {}, (9, 15): {}, (9, 16): {}, (9, 17): {}, (9, 18): {}, (9, 19): {}, (9, 20): {}, (9, 21): {}, (9, 22): {}, (9, 23): {}, (9, 24): {}, (9, 25): {}, (9, 26): {}, (9, 27): {}, (10, 0): {}, (10, 1): {}, (10, 2): {}, (10, 3): {}, (10, 4): {}, (10, 5): {}, (10, 6): {}, (10, 7): {}, (10, 8): {}, (10, 9): {}, (10, 10): {}, (10, 11): {}, (10, 12): {}, (10, 13): {}, (10, 14): {}, (10, 15): {}, (10, 16): {}, (10, 17): {}, (10, 18): {}, (10, 19): {}, (10, 20): {}, (10, 21): {}, (10, 22): {}, (10, 23): {}, (10, 24): {}, (10, 25): {}, (10, 26): {}, (10, 27): {}, (11, 0): {}, (11, 1): {}, (11, 2): {}, (11, 3): {}, (11, 4): {}, (11, 5): {}, (11, 6): {}, (11, 7): {}, (11, 8): {}, (11, 9): {}, (11, 10): {}, (11, 11): {}, (11, 12): {}, (11, 13): {}, (11, 14): {}, (11, 15): {}, (11, 16): {}, (11, 17): {}, (11, 18): {}, (11, 19): {}, (11, 20): {}, (11, 21): {}, (11, 22): {}, (11, 23): {}, (11, 24): {}, (11, 25): {}, (11, 26): {}, (11, 27): {}, (12, 0): {}, (12, 1): {}, (12, 2): {}, (12, 3): {}, (12, 4): {}, (12, 5): {}, (12, 6): {}, (12, 7): {}, (12, 8): {}, (12, 9): {}, (12, 10): {}, (12, 11): {}, (12, 12): {}, (12, 13): {}, (12, 14): {}, (12, 15): {}, (12, 16): {}, (12, 17): {}, (12, 18): {}, (12, 19): {}, (12, 20): {}, (12, 21): {}, (12, 22): {}, (12, 23): {}, (12, 24): {}, (12, 25): {}, (12, 26): {}, (12, 27): {}, (13, 0): {}, (13, 1): {}, (13, 2): {}, (13, 3): {}, (13, 4): {}, (13, 5): {}, (13, 6): {}, (13, 7): {}, (13, 8): {}, (13, 9): {}, (13, 10): {}, (13, 11): {}, (13, 12): {}, (13, 13): {}, (13, 14): {}, (13, 15): {}, (13, 16): {}, (13, 17): {}, (13, 18): {}, (13, 19): {}, (13, 20): {}, (13, 21): {}, (13, 22): {}, (13, 23): {}, (13, 24): {}, (13, 25): {}, (13, 26): {}, (13, 27): {}, (14, 0): {}, (14, 1): {}, (14, 2): {}, (14, 3): {}, (14, 4): {}, (14, 5): {}, (14, 6): {}, (14, 7): {}, (14, 8): {}, (14, 9): {}, (14, 10): {}, (14, 11): {}, (14, 12): {}, (14, 13): {}, (14, 14): {}, (14, 15): {}, (14, 16): {}, (14, 17): {}, (14, 18): {}, (14, 19): {}, (14, 20): {}, (14, 21): {}, (14, 22): {}, (14, 23): {}, (14, 24): {}, (14, 25): {}, (14, 26): {}, (14, 27): {}, (15, 0): {}, (15, 1): {}, (15, 2): {}, (15, 3): {}, (15, 4): {}, (15, 5): {}, (15, 6): {}, (15, 7): {}, (15, 8): {}, (15, 9): {}, (15, 10): {}, (15, 11): {}, (15, 12): {}, (15, 13): {}, (15, 14): {}, (15, 15): {}, (15, 16): {}, (15, 17): {}, (15, 18): {}, (15, 19): {}, (15, 20): {}, (15, 21): {}, (15, 22): {}, (15, 23): {}, (15, 24): {}, (15, 25): {}, (15, 26): {}, (15, 27): {}, (16, 0): {}, (16, 1): {}, (16, 2): {}, (16, 3): {}, (16, 4): {}, (16, 5): {}, (16, 6): {}, (16, 7): {}, (16, 8): {}, (16, 9): {}, (16, 10): {}, (16, 11): {}, (16, 12): {}, (16, 13): {}, (16, 14): {}, (16, 15): {}, (16, 16): {}, (16, 17): {}, (16, 18): {}, (16, 19): {}, (16, 20): {}, (16, 21): {}, (16, 22): {}, (16, 23): {}, (16, 24): {}, (16, 25): {}, (16, 26): {}, (16, 27): {}, (17, 0): {}, (17, 1): {}, (17, 2): {}, (17, 3): {}, (17, 4): {}, (17, 5): {}, (17, 6): {}, (17, 7): {}, (17, 8): {}, (17, 9): {}, (17, 10): {}, (17, 11): {}, (17, 12): {}, (17, 13): {}, (17, 14): {}, (17, 15): {}, (17, 16): {}, (17, 17): {}, (17, 18): {}, (17, 19): {}, (17, 20): {}, (17, 21): {}, (17, 22): {}, (17, 23): {}, (17, 24): {}, (17, 25): {}, (17, 26): {}, (17, 27): {}, (18, 0): {}, (18, 1): {}, (18, 2): {}, (18, 3): {}, (18, 4): {}, (18, 5): {}, (18, 6): {}, (18, 7): {}, (18, 8): {}, (18, 9): {}, (18, 10): {}, (18, 11): {}, (18, 12): {}, (18, 13): {}, (18, 14): {}, (18, 15): {}, (18, 16): {}, (18, 17): {}, (18, 18): {}, (18, 19): {}, (18, 20): {}, (18, 21): {}, (18, 22): {}, (18, 23): {}, (18, 24): {}, (18, 25): {}, (18, 26): {}, (18, 27): {}, (19, 0): {}, (19, 1): {}, (19, 2): {}, (19, 3): {}, (19, 4): {}, (19, 5): {}, (19, 6): {}, (19, 7): {}, (19, 8): {}, (19, 9): {}, (19, 10): {}, (19, 11): {}, (19, 12): {}, (19, 13): {}, (19, 14): {}, (19, 15): {}, (19, 16): {}, (19, 17): {}, (19, 18): {}, (19, 19): {}, (19, 20): {}, (19, 21): {}, (19, 22): {}, (19, 23): {}, (19, 24): {}, (19, 25): {}, (19, 26): {}, (19, 27): {}, (20, 0): {}, (20, 1): {}, (20, 2): {}, (20, 3): {}, (20, 4): {}, (20, 5): {}, (20, 6): {}, (20, 7): {}, (20, 8): {}, (20, 9): {}, (20, 10): {}, (20, 11): {}, (20, 12): {}, (20, 13): {}, (20, 14): {}, (20, 15): {}, (20, 16): {}, (20, 17): {}, (20, 18): {}, (20, 19): {}, (20, 20): {}, (20, 21): {}, (20, 22): {}, (20, 23): {}, (20, 24): {}, (20, 25): {}, (20, 26): {}, (20, 27): {}, (21, 0): {}, (21, 1): {}, (21, 2): {}, (21, 3): {}, (21, 4): {}, (21, 5): {}, (21, 6): {}, (21, 7): {}, (21, 8): {}, (21, 9): {}, (21, 10): {}, (21, 11): {}, (21, 12): {}, (21, 13): {}, (21, 14): {}, (21, 15): {}, (21, 16): {}, (21, 17): {}, (21, 18): {}, (21, 19): {}, (21, 20): {}, (21, 21): {}, (21, 22): {}, (21, 23): {}, (21, 24): {}, (21, 25): {}, (21, 26): {}, (21, 27): {}, (22, 0): {}, (22, 1): {}, (22, 2): {}, (22, 3): {}, (22, 4): {}, (22, 5): {}, (22, 6): {}, (22, 7): {}, (22, 8): {}, (22, 9): {}, (22, 10): {}, (22, 11): {}, (22, 12): {}, (22, 13): {}, (22, 14): {}, (22, 15): {}, (22, 16): {}, (22, 17): {}, (22, 18): {}, (22, 19): {}, (22, 20): {}, (22, 21): {}, (22, 22): {}, (22, 23): {}, (22, 24): {}, (22, 25): {}, (22, 26): {}, (22, 27): {}, (23, 0): {}, (23, 1): {}, (23, 2): {}, (23, 3): {}, (23, 4): {}, (23, 5): {}, (23, 6): {}, (23, 7): {}, (23, 8): {}, (23, 9): {}, (23, 10): {}, (23, 11): {}, (23, 12): {}, (23, 13): {}, (23, 14): {}, (23, 15): {}, (23, 16): {}, (23, 17): {}, (23, 18): {}, (23, 19): {}, (23, 20): {}, (23, 21): {}, (23, 22): {}, (23, 23): {}, (23, 24): {}, (23, 25): {}, (23, 26): {}, (23, 27): {}, (24, 0): {}, (24, 1): {}, (24, 2): {}, (24, 3): {}, (24, 4): {}, (24, 5): {}, (24, 6): {}, (24, 7): {}, (24, 8): {}, (24, 9): {}, (24, 10): {}, (24, 11): {}, (24, 12): {}, (24, 13): {}, (24, 14): {}, (24, 15): {}, (24, 16): {}, (24, 17): {}, (24, 18): {}, (24, 19): {}, (24, 20): {}, (24, 21): {}, (24, 22): {}, (24, 23): {}, (24, 24): {}, (24, 25): {}, (24, 26): {}, (24, 27): {}, (25, 0): {}, (25, 1): {}, (25, 2): {}, (25, 3): {}, (25, 4): {}, (25, 5): {}, (25, 6): {}, (25, 7): {}, (25, 8): {}, (25, 9): {}, (25, 10): {}, (25, 11): {}, (25, 12): {}, (25, 13): {}, (25, 14): {}, (25, 15): {}, (25, 16): {}, (25, 17): {}, (25, 18): {}, (25, 19): {}, (25, 20): {}, (25, 21): {}, (25, 22): {}, (25, 23): {}, (25, 24): {}, (25, 25): {}, (25, 26): {}, (25, 27): {}, (26, 0): {}, (26, 1): {}, (26, 2): {}, (26, 3): {}, (26, 4): {}, (26, 5): {}, (26, 6): {}, (26, 7): {}, (26, 8): {}, (26, 9): {}, (26, 10): {}, (26, 11): {}, (26, 12): {}, (26, 13): {}, (26, 14): {}, (26, 15): {}, (26, 16): {}, (26, 17): {}, (26, 18): {}, (26, 19): {}, (26, 20): {}, (26, 21): {}, (26, 22): {}, (26, 23): {}, (26, 24): {}, (26, 25): {}, (26, 26): {}, (26, 27): {}, (27, 0): {}, (27, 1): {}, (27, 2): {}, (27, 3): {}, (27, 4): {}, (27, 5): {}, (27, 6): {}, (27, 7): {}, (27, 8): {}, (27, 9): {}, (27, 10): {}, (27, 11): {}, (27, 12): {}, (27, 13): {}, (27, 14): {}, (27, 15): {}, (27, 16): {}, (27, 17): {}, (27, 18): {}, (27, 19): {}, (27, 20): {}, (27, 21): {}, (27, 22): {}, (27, 23): {}, (27, 24): {}, (27, 25): {}, (27, 26): {}, (27, 27): {}})"
      ]
     },
     "execution_count": 134,
     "metadata": {},
     "output_type": "execute_result"
    }
   ],
   "source": [
    "visible.nodes(data=True)"
   ]
  },
  {
   "cell_type": "code",
   "execution_count": 121,
   "metadata": {},
   "outputs": [],
   "source": [
    "nx.set_node_attributes(visible, 0 , 'value')"
   ]
  },
  {
   "cell_type": "code",
   "execution_count": 123,
   "metadata": {},
   "outputs": [
    {
     "ename": "KeyError",
     "evalue": "'value'",
     "output_type": "error",
     "traceback": [
      "\u001b[0;31m---------------------------------------------------------------------------\u001b[0m",
      "\u001b[0;31mKeyError\u001b[0m                                  Traceback (most recent call last)",
      "\u001b[0;32m<ipython-input-123-da7f6bf38663>\u001b[0m in \u001b[0;36m<module>\u001b[0;34m()\u001b[0m\n\u001b[0;32m----> 1\u001b[0;31m \u001b[0mvisible\u001b[0m\u001b[0;34m[\u001b[0m\u001b[0;34m(\u001b[0m\u001b[0;36m0\u001b[0m\u001b[0;34m,\u001b[0m\u001b[0;36m0\u001b[0m\u001b[0;34m)\u001b[0m\u001b[0;34m]\u001b[0m\u001b[0;34m[\u001b[0m\u001b[0;34m'value'\u001b[0m\u001b[0;34m]\u001b[0m\u001b[0;34m\u001b[0m\u001b[0m\n\u001b[0m",
      "\u001b[0;32m~/.pyenv/versions/3.6.1/lib/python3.6/site-packages/networkx/classes/coreviews.py\u001b[0m in \u001b[0;36m__getitem__\u001b[0;34m(self, key)\u001b[0m\n\u001b[1;32m     53\u001b[0m \u001b[0;34m\u001b[0m\u001b[0m\n\u001b[1;32m     54\u001b[0m     \u001b[0;32mdef\u001b[0m \u001b[0m__getitem__\u001b[0m\u001b[0;34m(\u001b[0m\u001b[0mself\u001b[0m\u001b[0;34m,\u001b[0m \u001b[0mkey\u001b[0m\u001b[0;34m)\u001b[0m\u001b[0;34m:\u001b[0m\u001b[0;34m\u001b[0m\u001b[0m\n\u001b[0;32m---> 55\u001b[0;31m         \u001b[0;32mreturn\u001b[0m \u001b[0mself\u001b[0m\u001b[0;34m.\u001b[0m\u001b[0m_atlas\u001b[0m\u001b[0;34m[\u001b[0m\u001b[0mkey\u001b[0m\u001b[0;34m]\u001b[0m\u001b[0;34m\u001b[0m\u001b[0m\n\u001b[0m\u001b[1;32m     56\u001b[0m \u001b[0;34m\u001b[0m\u001b[0m\n\u001b[1;32m     57\u001b[0m     \u001b[0;32mdef\u001b[0m \u001b[0mcopy\u001b[0m\u001b[0;34m(\u001b[0m\u001b[0mself\u001b[0m\u001b[0;34m)\u001b[0m\u001b[0;34m:\u001b[0m\u001b[0;34m\u001b[0m\u001b[0m\n",
      "\u001b[0;31mKeyError\u001b[0m: 'value'"
     ]
    }
   ],
   "source": [
    "visible[(0,0)]['value']"
   ]
  },
  {
   "cell_type": "code",
   "execution_count": 8,
   "metadata": {},
   "outputs": [],
   "source": [
    "class MRF(object):\n",
    "    def __init__(self, input, theta=0.3, threshold=0.1):\n",
    "        self.input = input\n",
    "        self.shape = self.input.shape\n",
    "        self.visible = nx.grid_2d_graph(self.shape[0], self.shape[1])\n",
    "        self.hidden = nx.grid_2d_graph(self.shape[0], self.shape[1])\n",
    "        \n",
    "        for n in self.nodes():\n",
    "#             self.visible[n]['value'] = self.input[n[0], n[1]]\n",
    "            nx.set_node_attributes(self.visible, {n:self.input[n[0], n[1]]}, 'value')\n",
    "            \n",
    "            f = lambda: np.array([1.0, 1.0])\n",
    "#             self.hidden[n]['messages'] = defaultdict(f)\n",
    "#             nx.set_node_attributes(self.hidden, {n: defaultdict(f)}, 'messages')\n",
    "            self.hidden.nodes[n]['messages'] = defaultdict(f)\n",
    "        \n",
    "        self.theta = theta\n",
    "        self.threshold = threshold\n",
    "        \n",
    "    def nodes(self):\n",
    "        for r in range(self.shape[0]):\n",
    "            for c in range(self.shape[1]):\n",
    "                yield (r, c)\n",
    "    \n",
    "    @property\n",
    "    def denoised(self):\n",
    "        for p in self.belief_propagation():\n",
    "            pass\n",
    "        \n",
    "        denoised = np.copy(self.input)\n",
    "        for r, c in self.nodes():\n",
    "            prob = np.array([1.0, 1.0])\n",
    "            messages = self.hidden.nodes[(r, c)]['messages']\n",
    "            for value in messages.values():\n",
    "                prob *= value\n",
    "            denoised[r, c] = 0 if prob[0] > prob[1] else 1\n",
    "        return denoised\n",
    "    \n",
    "    def send_message(self, source): \n",
    "        targets = [n for n in self.hidden[source] if isinstance(n, tuple)] # これでsourceの周辺隣接ノードのタプルが得られる\n",
    "        diff = 0\n",
    "        for target in targets:\n",
    "            message = self.marginal(source, target) # 周辺尤度\n",
    "            message /= np.sum(message) # 正規化\n",
    "#             messages = self.hidden[target]['messages'] # targetの潜在変数に渡されている値\n",
    "            messages = self.hidden.nodes[target]['messages']\n",
    "            diff += np.sum(np.abs(messages[source] - message)) # sourceからの値(過去の値)と周辺尤度の差\n",
    "            messages[source] = message # messageの更新\n",
    "#             nx.set_node_attributes(self.hidden, {target: messges}, 'messages')\n",
    "        return diff\n",
    "    \n",
    "    def marginal(self, source, target):\n",
    "        m = np.array([0.0, 0.0])\n",
    "        for i in range(2): # valueとして取りうる2値について\n",
    "            prob = self.prob(i) # そのポテンシャル？\n",
    "#             neighbors = self.hidden[source]['messages'].keys() # sourceの潜在変数ノードに渡されている値の送信元\n",
    "            neighbors = self.hidden.nodes[source]['messages'].keys() # 一度でもmessageを受信した相手\n",
    "            \n",
    "#             print(\"DEBUG: mariginal neighbors:\", source, target, neighbors,  [n for n in neighbors if n != target])\n",
    "            \n",
    "            for n in [n for n in neighbors if n != target]: # ターゲットは除く\n",
    "#                 prob *= self.hidden[source]['messages'][n] #その値を掛け算する(尤度ベクトルの積をとるところ)\n",
    "                prob *= self.hidden.nodes[source]['messages'][n]\n",
    "            m[i] = np.sum(prob) # 周辺化なので，1である場合と0である場合のprobの和を返す?\n",
    "            \n",
    "        return m\n",
    "    \n",
    "    def belief_propagation(self, loop=20): # ここで確率伝搬する\n",
    "        edges = [e for e in self.hidden.edges()] # ノード間のエッジ\n",
    "        edges = [e for e in edges if isinstance(e[0], tuple) and isinstance(e[1], tuple)] # 何を除外しているのかよくわからない\n",
    "        threshold = self.threshold * len(edges) # エッジの数*th がthreshold\n",
    "        \n",
    "        for n in self.nodes(): #n はノードの座標タプル\n",
    "#             message = self.prob(self.visible[n]['value'])#観測ノードの値→ポテンシャル値？\n",
    "            message = self.prob(nx.get_node_attributes(self.visible, 'value')[n])\n",
    "            message /= np.sum(message) # 正規化\n",
    "#             self.hidden[n]['messages'][n] = message # 潜在変数に伝搬\n",
    "#             nx.set_node_attributes(self.hidden, {n : {n: message}}, 'messages')\n",
    "            self.hidden.nodes(data=True)[n]['messages'][n] = message\n",
    "        yield\n",
    "        \n",
    "        for i in range(loop):  #ここからループ\n",
    "            diff = 0\n",
    "            for n in self.nodes():\n",
    "                diff += self.send_message(n) # 差分を加算．周辺尤度の差分が返ってくる\n",
    "                yield\n",
    "            \n",
    "            if diff < threshold: # 閾値を超えたらbreak\n",
    "                break\n",
    "                \n",
    "    def prob(self, value): # 値は，0である確率と1である分布のベクトル？\n",
    "        base = np.array([1 + self.theta if value == 0 else 1 - self.theta,\n",
    "                                        1 + self.theta if value == 1else 1 - self.theta])\n",
    "        return base\n",
    "    \n",
    "def get_corrupted_input(img, corruption_level):\n",
    "    corrupted = np.copy(img)\n",
    "    inv = np.random.binomial(n=1, p=corruption_level, size=img.shape)\n",
    "    for r in range(img.shape[0]):\n",
    "        for c in range(img.shape[1]):\n",
    "            if inv[r, c]:\n",
    "                corrupted[r, c] = ~(corrupted[r, c].astype(bool))\n",
    "    return corrupted"
   ]
  },
  {
   "cell_type": "code",
   "execution_count": 9,
   "metadata": {
    "scrolled": false
   },
   "outputs": [
    {
     "data": {
      "image/png": "[encoded data removed]",
      "text/plain": [
       "<matplotlib.figure.Figure at 0x7f04698ed208>"
      ]
     },
     "metadata": {},
     "output_type": "display_data"
    }
   ],
   "source": [
    "# MNIST データをダウンロード / ロード\n",
    "from sklearn.datasets import fetch_mldata\n",
    "from keras.datasets import mnist as MN\n",
    "\n",
    "mnist = MN.load_data()[0][0]\n",
    "\n",
    "import matplotlib.pyplot as plt\n",
    "import matplotlib.cm as cm\n",
    "fig, axes = plt.subplots(5, 3, figsize=(6, 8))\n",
    "\n",
    "# サンプルデータをスライス\n",
    "data = mnist[[0, 7000, 14000, 21000, 28000]]\n",
    "\n",
    "for i, (axrow, img) in enumerate(zip(axes, data)):\n",
    "    img = img.reshape(28, 28)\n",
    "    # 2値画像に変換\n",
    "    img = (img >= 128).astype(int)\n",
    "    \n",
    "    corrupted = get_corrupted_input(img, 0.05)\n",
    "    \n",
    "    mrf = MRF(corrupted)\n",
    "    \n",
    "    if i == 0:\n",
    "        axes[i][0].set_title('original')\n",
    "        axes[i][1].set_title('noizy')\n",
    "        axes[i][2].set_title('inferenced')\n",
    "    axes[i][0].imshow(img, cmap=cm.Greys_r)\n",
    "    axes[i][1].imshow(mrf.input, cmap=cm.Greys_r)\n",
    "    # MRF.denoised プロパティはノイズ除去した推測値を返す\n",
    "    axes[i][2].imshow(mrf.denoised, cmap=cm.Greys_r)\n",
    "    for ax in axrow:\n",
    "        ax.xaxis.set_visible(False)\n",
    "        ax.yaxis.set_visible(False)\n",
    "plt.show()"
   ]
  },
  {
   "cell_type": "code",
   "execution_count": null,
   "metadata": {},
   "outputs": [],
   "source": []
  }
 ],
 "metadata": {
  "kernelspec": {
   "display_name": "Python 3",
   "language": "python",
   "name": "python3"
  },
  "language_info": {
   "codemirror_mode": {
    "name": "ipython",
    "version": 3
   },
   "file_extension": ".py",
   "mimetype": "text/x-python",
   "name": "python",
   "nbconvert_exporter": "python",
   "pygments_lexer": "ipython3",
   "version": "3.6.1"
  }
 },
 "nbformat": 4,
 "nbformat_minor": 2
}
