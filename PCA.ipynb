{
 "cells": [
  {
   "cell_type": "markdown",
   "metadata": {},
   "source": [
    "## PCA"
   ]
  },
  {
   "cell_type": "markdown",
   "metadata": {},
   "source": [
    "X_train.shape\n",
    "(54720, 1440)"
   ]
  },
  {
   "cell_type": "code",
   "execution_count": null,
   "metadata": {
    "scrolled": true
   },
   "outputs": [],
   "source": [
    "from sklearn.decomposition import PCA\n",
    "import time\n",
    "\n",
    "import plotly.offline as py\n",
    "import plotly.graph_objs as go\n",
    "py.init_notebook_mode(connected=True)\n",
    "import numpy as np\n",
    "\n",
    "%matplotlib inline\n",
    "\n",
    "st = time.time()\n",
    "pca = PCA(svd_solver=\"full\")\n",
    "\n",
    "reduced_data = pca.fit_transform(X_train)\n",
    "\n",
    "print(\"time:\", time.time() - st)\n",
    "print(reduced_data.shape)\n",
    "print(pca.components_.shape)\n",
    "print(pca.explained_variance_ratio_.shape)\n",
    "print(pca.components_.mean())\n",
    "print(np.sum(pca.components_ == 0.) / (1440*1440))\n",
    "\n",
    "## check variance captured\n",
    "\n",
    "color = 'rgba(217, 217, 217, 0.14)'\n",
    "\n",
    "traces = []\n",
    "\n",
    "traces.append(go.Scatter(\n",
    "    x=np.arange(pca.explained_variance_ratio_.shape[0]),\n",
    "    y=pca.explained_variance_ratio_,\n",
    "    mode='lines+markers',\n",
    "    marker=dict(size=6, line=dict(color=color, width=0.3), opacity=0.8)\n",
    "))\n",
    "\n",
    "plot_data = traces\n",
    "layout = go.Layout(\n",
    "        title=\"variance captured\",\n",
    "        xaxis=dict(title=\"x\"),\n",
    "        yaxis=dict(title=\"y\")\n",
    ")\n",
    "fig = go.Figure(data=plot_data, layout=layout)\n",
    "py.iplot(fig)"
   ]
  },
  {
   "cell_type": "code",
   "execution_count": 254,
   "metadata": {},
   "outputs": [
    {
     "name": "stdout",
     "output_type": "stream",
     "text": [
      "[-7.4388285e-05 -4.2760712e-05  7.1610070e-06 ...  2.2117177e-08\n",
      "  6.8011609e-08  2.7778597e-09]\n",
      "[-7.4388277e-05 -4.2760603e-05  7.1610102e-06 ...  2.1954264e-08\n",
      "  6.8276222e-08  2.7530120e-09]\n",
      "time: 313.49906373023987\n"
     ]
    }
   ],
   "source": [
    "centered_data = X_train - np.mean(X_train, axis=0)\n",
    "\n",
    "print(reduced_data[735])\n",
    "print(np.dot( pca.components_, centered_data[735]))\n",
    "\n",
    "# split to normal and anomaly space\n",
    "st  = time.time()\n",
    "num_normal_components = 9\n",
    "\n",
    "P = pca.components_[:num_normal_components].T\n",
    "mapper = np.dot(P, P.T)\n",
    "ones = np.eye(1440)\n",
    "\n",
    "def spe(x):\n",
    "#     reconst = np.dot((np.eye(1440) - np.dot(P, P.T)), x)\n",
    "    reconst = np.dot(ones - mapper, x)\n",
    "    return np.linalg.norm(reconst)**2\n",
    "\n",
    "errors = [spe(x) for x in centered_data]\n",
    "    \n",
    "print(\"time:\", time.time() - st)"
   ]
  },
  {
   "cell_type": "code",
   "execution_count": 37,
   "metadata": {},
   "outputs": [],
   "source": [
    "# # define threshold\n",
    "\n",
    "# phi1 = np.sum(pca.explained_variance_[9:])\n",
    "# phi2 = np.sum(np.array([i**2 for i in pca.explained_variance_[9:]]))\n",
    "# phi3 = np.sum(np.array([i**3 for i in pca.explained_variance_[9:]]))\n",
    "\n",
    "# h0 = 1 - 2*phi1*phi3/(3*phi2**2)\n",
    "# ca = 2.58 # from standard normal distribution, 99.5 percentile value\n",
    "\n",
    "# delta = phi1*(ca*np.sqrt(2*phi2*h0**2)/phi1 + 1 + phi2*h0*(h0-1)/(phi1**2))**(1/h0)\n",
    "# print(\"delta:\", delta)"
   ]
  },
  {
   "cell_type": "code",
   "execution_count": null,
   "metadata": {},
   "outputs": [],
   "source": [
    "# plt.figure(figsize=(15, 7))\n",
    "# plt.plot(errors)\n",
    "# plt.hlines(delta,xmin=0, xmax=len(errors), colors=\"red\")\n",
    "# plt.ylim(0, 1e-4)\n",
    "# plt.show()"
   ]
  }
 ],
 "metadata": {
  "celltoolbar": "Raw Cell Format",
  "kernelspec": {
   "display_name": "Python 3",
   "language": "python",
   "name": "python3"
  },
  "language_info": {
   "codemirror_mode": {
    "name": "ipython",
    "version": 3
   },
   "file_extension": ".py",
   "mimetype": "text/x-python",
   "name": "python",
   "nbconvert_exporter": "python",
   "pygments_lexer": "ipython3",
   "version": "3.6.1"
  }
 },
 "nbformat": 4,
 "nbformat_minor": 2
}
